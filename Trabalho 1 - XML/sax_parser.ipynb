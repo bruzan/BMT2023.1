{
 "cells": [
  {
   "cell_type": "code",
   "execution_count": 1,
   "metadata": {},
   "outputs": [],
   "source": [
    "# Carregando a biblioteca\n",
    "import xml.sax\n",
    "\n",
    "# Definindo uma classe para extrair o conteudo dentro da tag titulo\n",
    "class TitleHandler(xml.sax.ContentHandler):\n",
    "    def __init__(self):\n",
    "        self.titles = []\n",
    "        self.current_title = \"\"\n",
    "\n",
    "    def startElement(self, name, attrs):\n",
    "        if name == \"TITLE\":\n",
    "            self.current_title = \"\"\n",
    "\n",
    "    def endElement(self, name):\n",
    "        if name == \"TITLE\":\n",
    "            self.titles.append(self.current_title)\n",
    "\n",
    "    def characters(self, content):\n",
    "        self.current_title += content.strip()\n",
    "\n",
    "# Criando um parser\n",
    "parser = xml.sax.make_parser()\n",
    "\n",
    "# Desligando namespaces\n",
    "parser.setFeature(xml.sax.handler.feature_namespaces, 0)\n",
    "\n",
    "# Criando o handler\n",
    "handler = TitleHandler()\n",
    "parser.setContentHandler(handler)\n",
    "\n",
    "# Fazendo o parse do arquivo\n",
    "parser.parse(\"Data/cf79.xml\")\n",
    "\n",
    "# Escrevendo todos os elementos TITLE em um novo arquivo xml\n",
    "with open(\"titulo.xml\", \"w\") as f:\n",
    "    for title in handler.titles:\n",
    "        f.write((\"<TITLE>\"+ title + \"</TITLE>\") + \"\\n\")"
   ]
  }
 ],
 "metadata": {
  "kernelspec": {
   "display_name": "base",
   "language": "python",
   "name": "python3"
  },
  "language_info": {
   "codemirror_mode": {
    "name": "ipython",
    "version": 3
   },
   "file_extension": ".py",
   "mimetype": "text/x-python",
   "name": "python",
   "nbconvert_exporter": "python",
   "pygments_lexer": "ipython3",
   "version": "3.9.13"
  },
  "orig_nbformat": 4
 },
 "nbformat": 4,
 "nbformat_minor": 2
}
