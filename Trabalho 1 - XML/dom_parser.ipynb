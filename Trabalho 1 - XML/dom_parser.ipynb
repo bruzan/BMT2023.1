{
 "cells": [
  {
   "attachments": {},
   "cell_type": "markdown",
   "metadata": {},
   "source": [
    "Loading libraries"
   ]
  },
  {
   "cell_type": "code",
   "execution_count": 11,
   "metadata": {},
   "outputs": [],
   "source": [
    "# Carregando a biblioteca\n",
    "import xml.etree.ElementTree as ET\n",
    "\n",
    "# Fazendo o parse do arquivo xml\n",
    "tree = ET.parse('Data/cf79.xml')\n",
    "\n",
    "# Pegando todos os elementos AUTHOR\n",
    "authors = tree.findall('.//AUTHOR')\n",
    "\n",
    "# Escrevendo todos os elementos AUTHOR em um novo arquivo xml\n",
    "with open('autores.xml', 'w') as f:\n",
    "    for author in authors:\n",
    "        f.write('<AUTHOR>'+ author.text.strip() + '</AUTHOR>' + '\\n')"
   ]
  }
 ],
 "metadata": {
  "kernelspec": {
   "display_name": "base",
   "language": "python",
   "name": "python3"
  },
  "language_info": {
   "codemirror_mode": {
    "name": "ipython",
    "version": 3
   },
   "file_extension": ".py",
   "mimetype": "text/x-python",
   "name": "python",
   "nbconvert_exporter": "python",
   "pygments_lexer": "ipython3",
   "version": "3.9.13"
  },
  "orig_nbformat": 4
 },
 "nbformat": 4,
 "nbformat_minor": 2
}
